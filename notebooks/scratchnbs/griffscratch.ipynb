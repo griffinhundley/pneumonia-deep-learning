{
 "cells": [
  {
   "cell_type": "code",
   "execution_count": 21,
   "metadata": {},
   "outputs": [],
   "source": [
    "from keras.preprocessing.image import load_img, ImageDataGenerator\n",
    "from keras import models\n",
    "from keras.layers import Dense, Dropout, Flatten, Conv2D, MaxPooling2D, BatchNormalization, SeparableConv2D\n",
    "from keras import optimizers\n",
    "from keras.metrics import Recall, Precision, AUC\n",
    "import matplotlib.pyplot as plt"
   ]
  },
  {
   "cell_type": "markdown",
   "metadata": {},
   "source": [
    "https://www.radiologyinfo.org/en/info.cfm?pg=pneumonia\n",
    "\n",
    "Chest x-ray: An x-ray exam will allow your doctor to see your lungs, heart and blood vessels to help determine if you have pneumonia. When interpreting the x-ray, the radiologist will look for white spots in the lungs (called infiltrates) that identify an infection. This exam will also help determine if you have any complications related to pneumonia such as abscesses or pleural effusions (fluid surrounding the lungs)."
   ]
  },
  {
   "cell_type": "markdown",
   "metadata": {},
   "source": [
    "https://www.wikidoc.org/index.php/Pneumonia_chest_x_ray\n",
    "\n",
    "Chest X-Ray\n",
    "Indications\n",
    "Patients with the following conditions should be evaluated with a chest X-ray:[1]\n",
    "\n",
    "Fever (>37.8° C / 100° F)\n",
    "Tachypnea (> 20 breaths/min)\n",
    "Tachycardia (> 100 bpm)\n",
    "Decreased breath sounds and crackles in the physical exam\n",
    "Findings\n",
    "X-rays of the chest reveal areas of opacity.\n",
    "A normal chest x-ray makes community-acquired pneumonia (CAP) less likely; however, CAP is sometimes not seen on x-rays because the disease is either in its initial stages or involves a part of the lung not easily seen by x-ray.\n",
    "X-rays can be misleading, because other problems, like lung scarring and congestive heart failure, can mimic pneumonia on x-ray.[2] Chest x-rays are also used to evaluate for complications of pneumonia.\n",
    "Chest x-ray findings are usually nonspecific in viral pneumonia.\n",
    "Computed tomography is used in situations when the diagnosis is not clear with a chest x-ray.\n",
    "\n",
    "Hospital Acquired\n",
    "The American Thoracic Society recommends that all patients with a suspicion of nosocomial pneumonia should have a chest x-ray to confirm diagnosis and determine the severity of the disease.[3]\n",
    "A chest X-ray also helps to determine pleural effusions or cavitations, as a possible complication.\n",
    "Ideally, the chest X-ray should be posteroanterior and lateral, but this will depend on the patient's condition.\n",
    "Findings include the following:[4]\n",
    "Unilateral or bilateral consolidation\n",
    "Air bronchogram\n",
    "Pleural effusion\n",
    "Cavitation\n",
    "Ground glass opacities\n",
    "Chest x-ray is also used to assess improvement or lack of clinical response in hospitalized patients."
   ]
  },
  {
   "cell_type": "markdown",
   "metadata": {},
   "source": [
    "### Normal"
   ]
  },
  {
   "cell_type": "code",
   "execution_count": null,
   "metadata": {},
   "outputs": [],
   "source": [
    "load_img('../data/train/NORMAL/IM-0115-0001.jpeg')"
   ]
  },
  {
   "cell_type": "markdown",
   "metadata": {},
   "source": [
    "### Pneumonia"
   ]
  },
  {
   "cell_type": "code",
   "execution_count": null,
   "metadata": {},
   "outputs": [],
   "source": [
    "load_img('../data/train/PNEUMONIA/person1_bacteria_1.jpeg')"
   ]
  },
  {
   "cell_type": "code",
   "execution_count": 9,
   "metadata": {},
   "outputs": [
    {
     "name": "stdout",
     "output_type": "stream",
     "text": [
      "Found 5132 images belonging to 2 classes.\n",
      "Found 100 images belonging to 2 classes.\n",
      "Found 624 images belonging to 2 classes.\n"
     ]
    }
   ],
   "source": [
    "datagen = ImageDataGenerator(rescale = 1./255)\n",
    "train_it = datagen.flow_from_directory('../data/train/',\n",
    "                                       class_mode='binary',\n",
    "                                       target_size = (64,64),\n",
    "                                       batch_size = 5132)\n",
    "val_it = datagen.flow_from_directory('../data/val/',\n",
    "                                     class_mode='binary',\n",
    "                                     target_size = (64,64),\n",
    "                                     batch_size = 100)\n",
    "test_it = datagen.flow_from_directory('../data/test/',\n",
    "                                      class_mode='binary', \n",
    "                                      target_size = (64,64),\n",
    "                                      batch_size = 624)\n",
    "X_train, Y_train = train_it.next()\n",
    "X_val, Y_val = val_it.next()\n",
    "X_test, Y_test = test_it.next()\n",
    "\n",
    "Y_train = Y_train.reshape(5132,1)\n",
    "Y_val = Y_val.reshape(100,1)\n",
    "Y_test = Y_test.reshape(624,1)"
   ]
  },
  {
   "cell_type": "code",
   "execution_count": 28,
   "metadata": {},
   "outputs": [
    {
     "name": "stdout",
     "output_type": "stream",
     "text": [
      "Epoch 1/4\n",
      "161/161 [==============================] - 15s 93ms/step - loss: 0.3960 - acc: 0.7913 - precision_3: 0.7866 - recall_6: 0.9888 - auc_1: 0.8755 - val_loss: 0.4116 - val_acc: 0.8800 - val_precision_3: 0.8167 - val_recall_6: 0.9800 - val_auc_1: 0.9886\n",
      "Epoch 2/4\n",
      "161/161 [==============================] - 16s 98ms/step - loss: 0.2572 - acc: 0.9236 - precision_3: 0.9199 - recall_6: 0.9833 - auc_1: 0.9751 - val_loss: 0.3809 - val_acc: 0.9600 - val_precision_3: 0.9259 - val_recall_6: 1.0000 - val_auc_1: 0.9912\n",
      "Epoch 3/4\n",
      "161/161 [==============================] - 15s 93ms/step - loss: 0.2192 - acc: 0.9486 - precision_3: 0.9551 - recall_6: 0.9770 - auc_1: 0.9844 - val_loss: 0.3278 - val_acc: 0.9500 - val_precision_3: 0.9091 - val_recall_6: 1.0000 - val_auc_1: 0.9968\n",
      "Epoch 4/4\n",
      "161/161 [==============================] - 15s 94ms/step - loss: 0.1951 - acc: 0.9571 - precision_3: 0.9676 - recall_6: 0.9752 - auc_1: 0.9871 - val_loss: 0.3902 - val_acc: 0.9000 - val_precision_3: 0.8333 - val_recall_6: 1.0000 - val_auc_1: 0.9974\n",
      "Test loss: 0.6644470691680908\n",
      "Test accuracy: 0.7964743375778198\n",
      "Test precision: 0.7543520331382751\n",
      "Test recall: 1.0\n",
      "Test AUC: 0.9466743469238281\n"
     ]
    }
   ],
   "source": [
    "model = models.Sequential()\n",
    "model.add(Conv2D(32, (3, 3), activation='relu',\n",
    "                        input_shape=(64 ,64,  3)))\n",
    "model.add(MaxPooling2D((2, 2)))\n",
    "\n",
    "model.add(Conv2D(32, (4, 4), activation='relu'))\n",
    "model.add(MaxPooling2D((2, 2)))\n",
    "model.add(Dropout(0.2))\n",
    "\n",
    "model.add(Conv2D(64, (3, 3), activation='relu'))\n",
    "model.add(MaxPooling2D((2, 2)))\n",
    "model.add(Dropout(0.2))\n",
    "\n",
    "model.add(Flatten())\n",
    "model.add(Dense(64, activation='relu'))\n",
    "model.add(Dense(1, activation='sigmoid'))\n",
    "\n",
    "model.compile(optimizer='adam',\n",
    "              loss='binary_crossentropy',\n",
    "              metrics=['acc', Precision(), Recall(), AUC()])\n",
    "\n",
    "history = model.fit(X_train,\n",
    "                    Y_train,\n",
    "                    epochs=4,\n",
    "                    batch_size = 32,\n",
    "                    validation_data=(X_val, Y_val))\n",
    "score = model.evaluate(X_test, Y_test, verbose=0)\n",
    "\n",
    "print('Test loss:', score[0])\n",
    "print('Test accuracy:', score[1])\n",
    "print('Test precision:', score[2])\n",
    "print('Test recall:', score[3])\n",
    "print('Test AUC:', score[4])"
   ]
  },
  {
   "cell_type": "code",
   "execution_count": 26,
   "metadata": {},
   "outputs": [
    {
     "data": {
      "text/plain": [
       "[0.4016841650009155,\n",
       " 0.8349359035491943,\n",
       " 0.8033826351165771,\n",
       " 0.9743589758872986]"
      ]
     },
     "execution_count": 26,
     "metadata": {},
     "output_type": "execute_result"
    }
   ],
   "source": [
    "score"
   ]
  },
  {
   "cell_type": "markdown",
   "metadata": {},
   "source": [
    "### Plots"
   ]
  },
  {
   "cell_type": "code",
   "execution_count": 13,
   "metadata": {},
   "outputs": [
    {
     "data": {
      "image/png": "[encoded data removed]",
      "text/plain": [
       "<Figure size 1080x288 with 2 Axes>"
      ]
     },
     "metadata": {
      "needs_background": "light"
     },
     "output_type": "display_data"
    }
   ],
   "source": [
    "hist_cnn = history.history\n",
    "loss_values = hist_cnn['loss']\n",
    "val_loss_values = hist_cnn['val_loss']\n",
    "acc_values = hist_cnn['acc'] \n",
    "val_acc_values = hist_cnn['val_acc']\n",
    "\n",
    "\n",
    "epochs = range(1, len(loss_values) + 1)\n",
    "\n",
    "plt.figure(figsize=(15,4))\n",
    "plt.subplot(121)\n",
    "plt.plot(epochs, loss_values, 'g.', label='Training loss')\n",
    "plt.plot(epochs, val_loss_values, 'g', label='Validation loss')\n",
    "\n",
    "plt.title('Training and validation loss')\n",
    "plt.xlabel('Epochs')\n",
    "plt.ylabel('Loss')\n",
    "plt.legend()\n",
    "\n",
    "plt.subplot(122)\n",
    "plt.plot(epochs, acc_values, 'r.', label='Training acc')\n",
    "plt.plot(epochs, val_acc_values, 'r', label='Validation acc')\n",
    "plt.title('Training and validation accuracy')\n",
    "plt.xlabel('Epochs')\n",
    "plt.ylabel('Accuracy')\n",
    "plt.legend()\n",
    "plt.show()"
   ]
  },
  {
   "cell_type": "code",
   "execution_count": null,
   "metadata": {},
   "outputs": [],
   "source": [
    "model.predict(X_val)"
   ]
  },
  {
   "cell_type": "code",
   "execution_count": null,
   "metadata": {},
   "outputs": [],
   "source": [
    "y_val"
   ]
  }
 ],
 "metadata": {
  "kernelspec": {
   "display_name": "learn-env",
   "language": "python",
   "name": "learn-env"
  },
  "language_info": {
   "codemirror_mode": {
    "name": "ipython",
    "version": 3
   },
   "file_extension": ".py",
   "mimetype": "text/x-python",
   "name": "python",
   "nbconvert_exporter": "python",
   "pygments_lexer": "ipython3",
   "version": "3.6.9"
  }
 },
 "nbformat": 4,
 "nbformat_minor": 4
}
