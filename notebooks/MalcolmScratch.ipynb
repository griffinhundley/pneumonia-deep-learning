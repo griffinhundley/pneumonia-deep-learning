{
 "cells": [
  {
   "cell_type": "code",
   "execution_count": null,
   "metadata": {},
   "outputs": [],
   "source": [
    "!pip install pillow"
   ]
  },
  {
   "cell_type": "code",
   "execution_count": 1,
   "metadata": {},
   "outputs": [],
   "source": [
    "import time\n",
    "import matplotlib.pyplot as plt\n",
    "import scipy\n",
    "import numpy as np\n",
    "from PIL import Image\n",
    "from scipy import ndimage\n",
    "from keras.preprocessing.image import ImageDataGenerator, array_to_img, img_to_array, load_img"
   ]
  },
  {
   "cell_type": "code",
   "execution_count": 2,
   "metadata": {
    "scrolled": true
   },
   "outputs": [
    {
     "name": "stdout",
     "output_type": "stream",
     "text": [
      "Found 5216 images belonging to 2 classes.\n",
      "Found 16 images belonging to 2 classes.\n",
      "Found 624 images belonging to 2 classes.\n"
     ]
    }
   ],
   "source": [
    "from keras.preprocessing.image import ImageDataGenerator\n",
    "datagen = ImageDataGenerator(rescale = 1./255)\n",
    "train_it = datagen.flow_from_directory('../data/train/',\n",
    "                                       class_mode='binary',\n",
    "                                       target_size = (64,64),\n",
    "                                       #color_mode = 'grayscale', \n",
    "                                       batch_size = 5216, \n",
    "                                       seed = 1)\n",
    "val_it = datagen.flow_from_directory('../data/val/',\n",
    "                                     class_mode='binary',\n",
    "                                     target_size = (64,64),\n",
    "                                     #color_mode = 'grayscale', \n",
    "                                     batch_size = 15, \n",
    "                                     seed = 1)\n",
    "test_it = datagen.flow_from_directory('../data/test/',\n",
    "                                      class_mode='binary', \n",
    "                                      target_size = (64,64),\n",
    "                                      #color_mode = 'grayscale', \n",
    "                                      batch_size = 623, \n",
    "                                      seed = 1)\n",
    "image_train, label_train = train_it.next()"
   ]
  },
  {
   "cell_type": "code",
   "execution_count": 3,
   "metadata": {},
   "outputs": [],
   "source": [
    "from keras import models\n",
    "from keras import layers"
   ]
  },
  {
   "cell_type": "code",
   "execution_count": 4,
   "metadata": {},
   "outputs": [],
   "source": [
    "image_val, label_val = val_it.next()\n",
    "image_test, label_test = test_it.next()"
   ]
  },
  {
   "cell_type": "code",
   "execution_count": 5,
   "metadata": {},
   "outputs": [
    {
     "name": "stdout",
     "output_type": "stream",
     "text": [
      "Number of training samples: 5216\n",
      "Number of testing samples: 623\n",
      "Number of validation samples: 15\n",
      "train_images shape: (5216, 64, 64, 3)\n",
      "train_labels shape: (5216,)\n",
      "test_images shape: (623, 64, 64, 3)\n",
      "test_labels shape: (623,)\n",
      "val_images shape: (15, 64, 64, 3)\n",
      "val_labels shape: (15,)\n"
     ]
    }
   ],
   "source": [
    "# Explore your dataset again\n",
    "m_train = image_train.shape[0]\n",
    "num_px = image_train.shape[1]\n",
    "m_test = image_test.shape[0]\n",
    "m_val = image_val.shape[0]\n",
    "\n",
    "print (\"Number of training samples: \" + str(m_train))\n",
    "print (\"Number of testing samples: \" + str(m_test))\n",
    "print (\"Number of validation samples: \" + str(m_val))\n",
    "print (\"train_images shape: \" + str(image_train.shape))\n",
    "print (\"train_labels shape: \" + str(label_train.shape))\n",
    "print (\"test_images shape: \" + str(image_test.shape))\n",
    "print (\"test_labels shape: \" + str(label_test.shape))\n",
    "print (\"val_images shape: \" + str(image_val.shape))\n",
    "print (\"val_labels shape: \" + str(label_val.shape))"
   ]
  },
  {
   "cell_type": "code",
   "execution_count": null,
   "metadata": {},
   "outputs": [],
   "source": [
    "#train_img = image_train.reshape(image_train.shape[0], -1)\n",
    "#test_img = image_test.reshape(image_test.shape[0], -1)\n",
    "#val_img = image_val.reshape(image_val.shape[0], -1)\n",
    "\n",
    "print(train_img.shape)\n",
    "print(test_img.shape)\n",
    "print(val_img.shape)"
   ]
  },
  {
   "cell_type": "code",
   "execution_count": 6,
   "metadata": {},
   "outputs": [],
   "source": [
    "train_y = np.reshape(label_train[:,], (5216,1))\n",
    "test_y = np.reshape(label_test[:,], (623,1))\n",
    "val_y = np.reshape(label_val[:,], (15,1))"
   ]
  },
  {
   "cell_type": "code",
   "execution_count": null,
   "metadata": {},
   "outputs": [],
   "source": []
  },
  {
   "cell_type": "code",
   "execution_count": 16,
   "metadata": {},
   "outputs": [],
   "source": [
    "model = models.Sequential()\n",
    "model.add(layers.Conv2D(32, (3, 3), activation='relu',\n",
    "                        input_shape=(64 ,64,  3)))\n",
    "model.add(layers.MaxPooling2D((2, 2)))\n",
    "\n",
    "model.add(layers.Conv2D(32, (4, 4), activation='relu'))\n",
    "model.add(layers.MaxPooling2D((2, 2)))\n",
    "\n",
    "model.add(layers.Conv2D(64, (3, 3), activation='relu'))\n",
    "model.add(layers.MaxPooling2D((2, 2)))\n",
    "\n",
    "model.add(layers.Flatten())\n",
    "model.add(layers.Dense(64, activation='relu'))\n",
    "model.add(layers.Dense(1, activation='sigmoid'))\n",
    "\n",
    "model.compile(loss='binary_crossentropy',\n",
    "              optimizer=\"adam\",\n",
    "              metrics=['acc'])"
   ]
  },
  {
   "cell_type": "code",
   "execution_count": 17,
   "metadata": {},
   "outputs": [
    {
     "name": "stdout",
     "output_type": "stream",
     "text": [
      "Epoch 1/20\n",
      "163/163 [==============================] - 8s 47ms/step - loss: 0.3386 - acc: 0.8526 - val_loss: 0.4747 - val_acc: 0.8000\n",
      "Epoch 2/20\n",
      "163/163 [==============================] - 8s 49ms/step - loss: 0.1335 - acc: 0.9482 - val_loss: 0.5604 - val_acc: 0.8000\n",
      "Epoch 3/20\n",
      "163/163 [==============================] - 8s 49ms/step - loss: 0.1004 - acc: 0.9622 - val_loss: 0.3416 - val_acc: 0.8000\n",
      "Epoch 4/20\n",
      "163/163 [==============================] - 7s 45ms/step - loss: 0.0875 - acc: 0.9663 - val_loss: 0.4792 - val_acc: 0.7333\n",
      "Epoch 5/20\n",
      "163/163 [==============================] - 7s 46ms/step - loss: 0.0666 - acc: 0.9739 - val_loss: 0.8892 - val_acc: 0.6667\n",
      "Epoch 6/20\n",
      "163/163 [==============================] - 7s 46ms/step - loss: 0.0718 - acc: 0.9739 - val_loss: 0.2787 - val_acc: 0.8667\n",
      "Epoch 7/20\n",
      "163/163 [==============================] - 8s 52ms/step - loss: 0.0604 - acc: 0.9770 - val_loss: 0.1595 - val_acc: 0.8667\n",
      "Epoch 8/20\n",
      "163/163 [==============================] - 8s 50ms/step - loss: 0.0543 - acc: 0.9778 - val_loss: 0.1205 - val_acc: 1.0000\n",
      "Epoch 9/20\n",
      "163/163 [==============================] - 8s 50ms/step - loss: 0.0501 - acc: 0.9824 - val_loss: 0.1371 - val_acc: 0.9333\n",
      "Epoch 10/20\n",
      "163/163 [==============================] - 8s 47ms/step - loss: 0.0363 - acc: 0.9877 - val_loss: 0.4473 - val_acc: 0.8000\n",
      "Epoch 11/20\n",
      "163/163 [==============================] - 8s 47ms/step - loss: 0.0287 - acc: 0.9900 - val_loss: 0.2027 - val_acc: 0.9333\n",
      "Epoch 12/20\n",
      "163/163 [==============================] - 8s 47ms/step - loss: 0.0232 - acc: 0.9921 - val_loss: 0.3244 - val_acc: 0.8000\n",
      "Epoch 13/20\n",
      "163/163 [==============================] - 8s 49ms/step - loss: 0.0202 - acc: 0.9927 - val_loss: 0.3165 - val_acc: 0.8000\n",
      "Epoch 14/20\n",
      "163/163 [==============================] - 8s 47ms/step - loss: 0.0171 - acc: 0.9942 - val_loss: 0.3615 - val_acc: 0.7333\n",
      "Epoch 15/20\n",
      "163/163 [==============================] - 8s 52ms/step - loss: 0.0101 - acc: 0.9962 - val_loss: 0.2505 - val_acc: 0.9333\n",
      "Epoch 16/20\n",
      "163/163 [==============================] - 8s 48ms/step - loss: 0.0121 - acc: 0.9958 - val_loss: 0.1298 - val_acc: 0.9333\n",
      "Epoch 17/20\n",
      "163/163 [==============================] - 8s 50ms/step - loss: 0.0085 - acc: 0.9969 - val_loss: 0.9814 - val_acc: 0.7333\n",
      "Epoch 18/20\n",
      "163/163 [==============================] - 8s 50ms/step - loss: 0.0086 - acc: 0.9973 - val_loss: 0.5348 - val_acc: 0.7333\n",
      "Epoch 19/20\n",
      "163/163 [==============================] - 8s 51ms/step - loss: 0.0158 - acc: 0.9933 - val_loss: 0.0289 - val_acc: 1.0000\n",
      "Epoch 20/20\n",
      "163/163 [==============================] - 8s 51ms/step - loss: 0.0059 - acc: 0.9983 - val_loss: 0.1171 - val_acc: 0.9333\n"
     ]
    }
   ],
   "source": [
    "history = model.fit(image_train, \n",
    "                    train_y,\n",
    "                    epochs=20,\n",
    "                    batch_size=32,\n",
    "                    validation_data=(image_val, val_y))"
   ]
  },
  {
   "cell_type": "code",
   "execution_count": 18,
   "metadata": {},
   "outputs": [
    {
     "name": "stdout",
     "output_type": "stream",
     "text": [
      "163/163 [==============================] - 2s 15ms/step - loss: 0.0044 - acc: 0.9988\n"
     ]
    }
   ],
   "source": [
    "results_train = model.evaluate(image_train, train_y)"
   ]
  },
  {
   "cell_type": "code",
   "execution_count": 19,
   "metadata": {},
   "outputs": [
    {
     "name": "stdout",
     "output_type": "stream",
     "text": [
      "1/1 [==============================] - 0s 1ms/step - loss: 0.1171 - acc: 0.9333\n"
     ]
    }
   ],
   "source": [
    "results_val = model.evaluate(image_val, val_y)"
   ]
  },
  {
   "cell_type": "code",
   "execution_count": 20,
   "metadata": {},
   "outputs": [
    {
     "name": "stdout",
     "output_type": "stream",
     "text": [
      "20/20 [==============================] - 0s 14ms/step - loss: 2.0078 - acc: 0.7913\n"
     ]
    }
   ],
   "source": [
    "results_test = model.evaluate(image_test, test_y)"
   ]
  },
  {
   "cell_type": "code",
   "execution_count": null,
   "metadata": {},
   "outputs": [],
   "source": []
  }
 ],
 "metadata": {
  "kernelspec": {
   "display_name": "learn-env",
   "language": "python",
   "name": "learn-env"
  },
  "language_info": {
   "codemirror_mode": {
    "name": "ipython",
    "version": 3
   },
   "file_extension": ".py",
   "mimetype": "text/x-python",
   "name": "python",
   "nbconvert_exporter": "python",
   "pygments_lexer": "ipython3",
   "version": "3.6.9"
  }
 },
 "nbformat": 4,
 "nbformat_minor": 4
}
