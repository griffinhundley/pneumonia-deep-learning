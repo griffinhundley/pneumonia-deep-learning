{
 "cells": [
  {
   "cell_type": "code",
   "execution_count": null,
   "metadata": {},
   "outputs": [],
   "source": [
    "# from keras.preprocessing.image import ImageDataGenerator, img_to_array, load_img, array_to_img"
   ]
  },
  {
   "cell_type": "code",
   "execution_count": null,
   "metadata": {},
   "outputs": [],
   "source": [
    "from keras.preprocessing.image import ImageDataGenerator\n",
    "datagen = ImageDataGenerator(rescale = 1./255)\n",
    "train_it = datagen.flow_from_directory('../data/train/',\n",
    "                                       class_mode='binary',\n",
    "                                       target_size = (256,256),\n",
    "                                       color_mode = 'grayscale',\n",
    "                                       batch_size = 5217)\n",
    "val_it = datagen.flow_from_directory('../data/val/',\n",
    "                                     class_mode='binary',\n",
    "                                     target_size = (256,256),\n",
    "                                     color_mode = 'grayscale',\n",
    "                                     batch_size = 16)\n",
    "test_it = datagen.flow_from_directory('../data/test/',\n",
    "                                      class_mode='binary', \n",
    "                                      target_size = (256,256),\n",
    "                                      color_mode = 'grayscale',\n",
    "                                      batch_size = 624)\n",
    "\n",
    "batchX_train, batchY_train = train_it.next()\n",
    "batchX_train = batchX_train.reshape(5217, 65536)\n",
    "\n",
    "batchX_val, batchY_val = val_it.next()\n",
    "batchX_val = batchX_val.reshape(16,65536)\n",
    "\n",
    "batchX_test, batchY_test = test_it.next()\n",
    "batchX_test = batchX_test.reshape(624,65536)"
   ]
  },
  {
   "cell_type": "code",
   "execution_count": null,
   "metadata": {},
   "outputs": [],
   "source": [
    "from keras import models\n",
    "from keras import layers\n",
    "from keras import optimizers"
   ]
  },
  {
   "cell_type": "code",
   "execution_count": null,
   "metadata": {},
   "outputs": [],
   "source": [
    "from keras.layers import Dense, Dropout, Conv2D, MaxPooling2D, Activation, Flatten"
   ]
  },
  {
   "cell_type": "code",
   "execution_count": null,
   "metadata": {},
   "outputs": [],
   "source": [
    "batchX_train.shape"
   ]
  },
  {
   "cell_type": "code",
   "execution_count": null,
   "metadata": {},
   "outputs": [],
   "source": [
    "model = models.Sequential()\n",
    "model.add(Dense(100, activation = 'relu', input_shape=(65536,)))\n",
    "model.add(Dropout(0.2))\n",
    "model.add(Dense(200, activation = 'relu'))\n",
    "model.add(Dropout(0.2))\n",
    "model.add(Dense(200, activation = 'relu'))\n",
    "model.add(Dropout(0.2))\n",
    "model.add(Dense(1, activation='sigmoid'))\n",
    "\n",
    "model.compile(optimizer='adam',\n",
    "              loss='binary_crossentropy',\n",
    "              metrics=['accuracy'])\n",
    "history = model.fit(batchX_train,\n",
    "                    batchY_train,\n",
    "                    epochs=5,\n",
    "                    batch_size = 32,\n",
    "                    validation_data=(batchX_val, batchY_val))\n",
    "score = model.evaluate(batchX_test, batchY_test, verbose=0)\n",
    "print('Test loss:', score[0])\n",
    "print('Test accuracy:', score[1])"
   ]
  },
  {
   "cell_type": "code",
   "execution_count": null,
   "metadata": {},
   "outputs": [],
   "source": [
    "model.summary()"
   ]
  },
  {
   "cell_type": "markdown",
   "metadata": {},
   "source": [
    "## CNN"
   ]
  },
  {
   "cell_type": "code",
   "execution_count": 1,
   "metadata": {},
   "outputs": [],
   "source": [
    "import matplotlib.pyplot as plt\n",
    "import numpy as np\n",
    "import os, shutil\n",
    "from keras import models\n",
    "from keras import layers\n",
    "from sklearn.metrics import confusion_matrix, f1_score\n",
    "np.random.seed(123)\n",
    "from keras.models import load_model\n",
    "from keras.preprocessing.image import ImageDataGenerator, array_to_img, img_to_array, load_img"
   ]
  },
  {
   "cell_type": "code",
   "execution_count": 2,
   "metadata": {},
   "outputs": [
    {
     "name": "stdout",
     "output_type": "stream",
     "text": [
      "Found 5217 images belonging to 2 classes.\n",
      "Found 16 images belonging to 2 classes.\n",
      "Found 624 images belonging to 2 classes.\n"
     ]
    }
   ],
   "source": [
    "datagen = ImageDataGenerator(rescale = 1./255)\n",
    "train_it = datagen.flow_from_directory('../data/train/',\n",
    "                                       class_mode='binary',\n",
    "                                       target_size = (64,64),\n",
    "#                                        color_mode = 'grayscale',\n",
    "                                       batch_size = 5217, \n",
    "                                       seed = 1)\n",
    "val_it = datagen.flow_from_directory('../data/val/',\n",
    "                                     class_mode='binary',\n",
    "                                     target_size = (64,64),\n",
    "#                                      color_mode = 'grayscale',\n",
    "                                     batch_size = 16,\n",
    "                                     seed = 1)\n",
    "test_it = datagen.flow_from_directory('../data/test/',\n",
    "                                      class_mode='binary', \n",
    "                                      target_size = (64,64),\n",
    "#                                       color_mode = 'grayscale',\n",
    "                                      batch_size = 624,\n",
    "                                      seed = 1)\n",
    "#split images and labels\n",
    "X_train, y_train = train_it.next()\n",
    "X_val, y_val = val_it.next()\n",
    "X_test, y_test = test_it.next()"
   ]
  },
  {
   "cell_type": "code",
   "execution_count": 4,
   "metadata": {},
   "outputs": [],
   "source": [
    "y_train = np.reshape(y_train[:,], (5217,1))\n",
    "y_val = np.reshape(y_val[:,], (16,1))\n",
    "y_test = np.reshape(y_test[:,], (624,1))"
   ]
  },
  {
   "cell_type": "code",
   "execution_count": 18,
   "metadata": {},
   "outputs": [
    {
     "name": "stdout",
     "output_type": "stream",
     "text": [
      "Epoch 1/5\n",
      "164/164 [==============================] - 14s 83ms/step - loss: 0.3134 - accuracy: 0.8670 - val_loss: 0.6945 - val_accuracy: 0.6875\n",
      "Epoch 2/5\n",
      "164/164 [==============================] - 14s 83ms/step - loss: 0.1397 - accuracy: 0.9438 - val_loss: 0.5681 - val_accuracy: 0.7500\n",
      "Epoch 3/5\n",
      "164/164 [==============================] - 14s 85ms/step - loss: 0.1111 - accuracy: 0.9584 - val_loss: 0.5239 - val_accuracy: 0.7500\n",
      "Epoch 4/5\n",
      "164/164 [==============================] - 13s 81ms/step - loss: 0.0912 - accuracy: 0.9659 - val_loss: 1.0445 - val_accuracy: 0.6250\n",
      "Epoch 5/5\n",
      "164/164 [==============================] - 12s 73ms/step - loss: 0.0765 - accuracy: 0.9709 - val_loss: 0.4804 - val_accuracy: 0.7500\n"
     ]
    }
   ],
   "source": [
    "model = models.Sequential()\n",
    "model.add(layers.Conv2D(32, (3, 3), activation='relu',\n",
    "                        input_shape=(64 ,64,  3)))\n",
    "model.add(layers.MaxPooling2D((2, 2)))\n",
    "\n",
    "model.add(layers.Conv2D(32, (4, 4), activation='relu'))\n",
    "model.add(layers.MaxPooling2D((2, 2)))\n",
    "\n",
    "model.add(layers.Conv2D(64, (3, 3), activation='relu'))\n",
    "model.add(layers.MaxPooling2D((2, 2)))\n",
    "\n",
    "model.add(layers.Flatten())\n",
    "model.add(layers.Dense(64, activation='relu'))\n",
    "model.add(layers.Dense(1, activation='sigmoid'))\n",
    "\n",
    "model.compile(loss='binary_crossentropy',\n",
    "              optimizer=\"adam\",\n",
    "              metrics=['accuracy'])\n",
    "cnn1 = model.fit(X_train,\n",
    "                    y_train,\n",
    "                    epochs=5,\n",
    "                    batch_size = 32,\n",
    "                    validation_data=(X_val, y_val))\n"
   ]
  },
  {
   "cell_type": "code",
   "execution_count": 19,
   "metadata": {},
   "outputs": [
    {
     "name": "stdout",
     "output_type": "stream",
     "text": [
      "Test loss: 0.8759942650794983\n",
      "Test accuracy: 0.7532051205635071\n"
     ]
    }
   ],
   "source": [
    "score = model.evaluate(X_test, y_test, verbose=0)\n",
    "print('Test loss:', score[0])\n",
    "print('Test accuracy:', score[1])"
   ]
  },
  {
   "cell_type": "markdown",
   "metadata": {},
   "source": [
    "### Plots"
   ]
  },
  {
   "cell_type": "code",
   "execution_count": 22,
   "metadata": {},
   "outputs": [
    {
     "data": {
      "image/png": "[encoded data removed]",
      "text/plain": [
       "<Figure size 1080x288 with 2 Axes>"
      ]
     },
     "metadata": {
      "needs_background": "light"
     },
     "output_type": "display_data"
    }
   ],
   "source": [
    "hist_cnn = cnn1.history\n",
    "loss_values = hist_cnn['loss']\n",
    "val_loss_values = hist_cnn['val_loss']\n",
    "acc_values = hist_cnn['accuracy'] \n",
    "val_acc_values = hist_cnn['val_accuracy']\n",
    "\n",
    "\n",
    "epochs = range(1, len(loss_values) + 1)\n",
    "\n",
    "plt.figure(figsize=(15,4))\n",
    "plt.subplot(121)\n",
    "plt.plot(epochs, loss_values, 'g.', label='Training loss')\n",
    "plt.plot(epochs, val_loss_values, 'g', label='Validation loss')\n",
    "\n",
    "plt.title('Training and validation loss')\n",
    "plt.xlabel('Epochs')\n",
    "plt.ylabel('Loss')\n",
    "plt.legend()\n",
    "\n",
    "plt.subplot(122)\n",
    "plt.plot(epochs, acc_values, 'r.', label='Training acc')\n",
    "plt.plot(epochs, val_acc_values, 'r', label='Validation acc')\n",
    "plt.title('Training and validation accuracy')\n",
    "plt.xlabel('Epochs')\n",
    "plt.ylabel('Accuracy')\n",
    "plt.legend()\n",
    "plt.show()"
   ]
  },
  {
   "cell_type": "code",
   "execution_count": null,
   "metadata": {},
   "outputs": [],
   "source": []
  }
 ],
 "metadata": {
  "kernelspec": {
   "display_name": "learn-env",
   "language": "python",
   "name": "learn-env"
  },
  "language_info": {
   "codemirror_mode": {
    "name": "ipython",
    "version": 3
   },
   "file_extension": ".py",
   "mimetype": "text/x-python",
   "name": "python",
   "nbconvert_exporter": "python",
   "pygments_lexer": "ipython3",
   "version": "3.6.9"
  }
 },
 "nbformat": 4,
 "nbformat_minor": 4
}
